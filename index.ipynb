{
 "cells": [
  {
   "cell_type": "markdown",
   "metadata": {},
   "source": [
    "# Multiple Linear Regression - Cumulative Lab"
   ]
  },
  {
   "cell_type": "markdown",
   "metadata": {},
   "source": [
    "## Introduction\n",
    "\n",
    "In this cumulative lab you'll perform an end-to-end analysis of a dataset using multiple linear regression."
   ]
  },
  {
   "cell_type": "markdown",
   "metadata": {},
   "source": [
    "## Objectives\n",
    "\n",
    "You will be able to:\n",
    "\n",
    "* Prepare data for regression analysis using pandas\n",
    "* Build multiple linear regression models using StatsModels\n",
    "* Measure regression model performance\n",
    "* Interpret multiple linear regression coefficients"
   ]
  },
  {
   "cell_type": "markdown",
   "metadata": {},
   "source": [
    "## Your Task: Develop a Model of Diamond Prices\n",
    "\n",
    "![tweezers holding a diamond](https://curriculum-content.s3.amazonaws.com/data-science/images/diamond.jpg)\n",
    "\n",
    "Photo by <a href=\"https://unsplash.com/@tahliaclaire?utm_source=unsplash&utm_medium=referral&utm_content=creditCopyText\">Tahlia Doyle</a> on <a href=\"https://unsplash.com/s/photos/diamonds?utm_source=unsplash&utm_medium=referral&utm_content=creditCopyText\">Unsplash</a>"
   ]
  },
  {
   "cell_type": "markdown",
   "metadata": {},
   "source": [
    "### Business Understanding\n",
    "\n",
    "You've been asked to perform an analysis to see how various factors impact the price of diamonds. There are various [guides online](https://www.diamonds.pro/education/diamond-prices/) that claim to tell consumers how to avoid getting \"ripped off\", but you've been asked to dig into the data to see whether these claims ring true.\n",
    "\n",
    "### Data Understanding\n",
    "\n",
    "We have downloaded a diamonds dataset from [Kaggle](https://www.kaggle.com/datasets/shivam2503/diamonds), which came with this description:\n",
    "\n",
    "* **price** price in US dollars (\\$326--\\$18,823)\n",
    "* **carat** weight of the diamond (0.2--5.01)\n",
    "* **cut** quality of the cut (Fair, Good, Very Good, Premium, Ideal)\n",
    "* **color** diamond colour, from J (worst) to D (best)\n",
    "* **clarity** a measurement of how clear the diamond is (I1 (worst), SI2, SI1, VS2, VS1, VVS2, VVS1, IF (best))\n",
    "* **x** length in mm (0--10.74)\n",
    "* **y** width in mm (0--58.9)\n",
    "* **z** depth in mm (0--31.8)\n",
    "* **depth** total depth percentage = z / mean(x, y) = 2 * z / (x + y) (43--79)\n",
    "* **table** width of top of diamond relative to widest point (43--95)"
   ]
  },
  {
   "cell_type": "markdown",
   "metadata": {},
   "source": [
    "### Requirements\n",
    "\n",
    "#### 1. Load the Data Using Pandas\n",
    "\n",
    "Practice once again with loading CSV data into a `pandas` dataframe.\n",
    "\n",
    "#### 2. Build a Baseline Simple Linear Regression Model\n",
    "\n",
    "Identify the feature that is most correlated with `price` and build a StatsModels linear regression model using just that feature.\n",
    "\n",
    "#### 3. Evaluate and Interpret Baseline Model Results\n",
    "\n",
    "Explain the overall performance as well as parameter coefficients for the baseline simple linear regression model.\n",
    "\n",
    "#### 4. Prepare a Categorical Feature for Multiple Regression Modeling\n",
    "\n",
    "Identify a promising categorical feature and use `pd.get_dummies()` to prepare it for modeling.\n",
    "\n",
    "#### 5. Build a Multiple Linear Regression Model\n",
    "\n",
    "Using the data from Step 4, create a second StatsModels linear regression model using one numeric feature and one one-hot encoded categorical feature.\n",
    "\n",
    "#### 6. Evaluate and Interpret Multiple Linear Regression Model Results\n",
    "\n",
    "Explain the performance of the new model in comparison with the baseline, and interpret the new parameter coefficients."
   ]
  },
  {
   "cell_type": "markdown",
   "metadata": {},
   "source": [
    "## 1. Load the Data Using Pandas\n",
    "\n",
    "Import `pandas` (with the standard alias `pd`), and load the data from the file `diamonds.csv` into a DataFrame called `diamonds`.\n",
    "\n",
    "Be sure to specify `index_col=0` to avoid creating an \"Unnamed: 0\" column."
   ]
  },
  {
   "cell_type": "code",
   "execution_count": 111,
   "metadata": {},
   "outputs": [
    {
     "data": {
      "application/vnd.microsoft.datawrangler.viewer.v0+json": {
       "columns": [
        {
         "name": "index",
         "rawType": "int64",
         "type": "integer"
        },
        {
         "name": "carat",
         "rawType": "float64",
         "type": "float"
        },
        {
         "name": "cut",
         "rawType": "object",
         "type": "string"
        },
        {
         "name": "color",
         "rawType": "object",
         "type": "string"
        },
        {
         "name": "clarity",
         "rawType": "object",
         "type": "string"
        },
        {
         "name": "depth",
         "rawType": "float64",
         "type": "float"
        },
        {
         "name": "table",
         "rawType": "float64",
         "type": "float"
        },
        {
         "name": "price",
         "rawType": "int64",
         "type": "integer"
        },
        {
         "name": "x",
         "rawType": "float64",
         "type": "float"
        },
        {
         "name": "y",
         "rawType": "float64",
         "type": "float"
        },
        {
         "name": "z",
         "rawType": "float64",
         "type": "float"
        }
       ],
       "conversionMethod": "pd.DataFrame",
       "ref": "86a4ad08-05e6-461d-847c-7a2f54289a61",
       "rows": [
        [
         "1",
         "0.23",
         "Ideal",
         "E",
         "SI2",
         "61.5",
         "55.0",
         "326",
         "3.95",
         "3.98",
         "2.43"
        ],
        [
         "2",
         "0.21",
         "Premium",
         "E",
         "SI1",
         "59.8",
         "61.0",
         "326",
         "3.89",
         "3.84",
         "2.31"
        ],
        [
         "3",
         "0.23",
         "Good",
         "E",
         "VS1",
         "56.9",
         "65.0",
         "327",
         "4.05",
         "4.07",
         "2.31"
        ],
        [
         "4",
         "0.29",
         "Premium",
         "I",
         "VS2",
         "62.4",
         "58.0",
         "334",
         "4.2",
         "4.23",
         "2.63"
        ],
        [
         "5",
         "0.31",
         "Good",
         "J",
         "SI2",
         "63.3",
         "58.0",
         "335",
         "4.34",
         "4.35",
         "2.75"
        ]
       ],
       "shape": {
        "columns": 10,
        "rows": 5
       }
      },
      "text/html": [
       "<div>\n",
       "<style scoped>\n",
       "    .dataframe tbody tr th:only-of-type {\n",
       "        vertical-align: middle;\n",
       "    }\n",
       "\n",
       "    .dataframe tbody tr th {\n",
       "        vertical-align: top;\n",
       "    }\n",
       "\n",
       "    .dataframe thead th {\n",
       "        text-align: right;\n",
       "    }\n",
       "</style>\n",
       "<table border=\"1\" class=\"dataframe\">\n",
       "  <thead>\n",
       "    <tr style=\"text-align: right;\">\n",
       "      <th></th>\n",
       "      <th>carat</th>\n",
       "      <th>cut</th>\n",
       "      <th>color</th>\n",
       "      <th>clarity</th>\n",
       "      <th>depth</th>\n",
       "      <th>table</th>\n",
       "      <th>price</th>\n",
       "      <th>x</th>\n",
       "      <th>y</th>\n",
       "      <th>z</th>\n",
       "    </tr>\n",
       "  </thead>\n",
       "  <tbody>\n",
       "    <tr>\n",
       "      <th>1</th>\n",
       "      <td>0.23</td>\n",
       "      <td>Ideal</td>\n",
       "      <td>E</td>\n",
       "      <td>SI2</td>\n",
       "      <td>61.5</td>\n",
       "      <td>55.0</td>\n",
       "      <td>326</td>\n",
       "      <td>3.95</td>\n",
       "      <td>3.98</td>\n",
       "      <td>2.43</td>\n",
       "    </tr>\n",
       "    <tr>\n",
       "      <th>2</th>\n",
       "      <td>0.21</td>\n",
       "      <td>Premium</td>\n",
       "      <td>E</td>\n",
       "      <td>SI1</td>\n",
       "      <td>59.8</td>\n",
       "      <td>61.0</td>\n",
       "      <td>326</td>\n",
       "      <td>3.89</td>\n",
       "      <td>3.84</td>\n",
       "      <td>2.31</td>\n",
       "    </tr>\n",
       "    <tr>\n",
       "      <th>3</th>\n",
       "      <td>0.23</td>\n",
       "      <td>Good</td>\n",
       "      <td>E</td>\n",
       "      <td>VS1</td>\n",
       "      <td>56.9</td>\n",
       "      <td>65.0</td>\n",
       "      <td>327</td>\n",
       "      <td>4.05</td>\n",
       "      <td>4.07</td>\n",
       "      <td>2.31</td>\n",
       "    </tr>\n",
       "    <tr>\n",
       "      <th>4</th>\n",
       "      <td>0.29</td>\n",
       "      <td>Premium</td>\n",
       "      <td>I</td>\n",
       "      <td>VS2</td>\n",
       "      <td>62.4</td>\n",
       "      <td>58.0</td>\n",
       "      <td>334</td>\n",
       "      <td>4.20</td>\n",
       "      <td>4.23</td>\n",
       "      <td>2.63</td>\n",
       "    </tr>\n",
       "    <tr>\n",
       "      <th>5</th>\n",
       "      <td>0.31</td>\n",
       "      <td>Good</td>\n",
       "      <td>J</td>\n",
       "      <td>SI2</td>\n",
       "      <td>63.3</td>\n",
       "      <td>58.0</td>\n",
       "      <td>335</td>\n",
       "      <td>4.34</td>\n",
       "      <td>4.35</td>\n",
       "      <td>2.75</td>\n",
       "    </tr>\n",
       "  </tbody>\n",
       "</table>\n",
       "</div>"
      ],
      "text/plain": [
       "   carat      cut color clarity  depth  table  price     x     y     z\n",
       "1   0.23    Ideal     E     SI2   61.5   55.0    326  3.95  3.98  2.43\n",
       "2   0.21  Premium     E     SI1   59.8   61.0    326  3.89  3.84  2.31\n",
       "3   0.23     Good     E     VS1   56.9   65.0    327  4.05  4.07  2.31\n",
       "4   0.29  Premium     I     VS2   62.4   58.0    334  4.20  4.23  2.63\n",
       "5   0.31     Good     J     SI2   63.3   58.0    335  4.34  4.35  2.75"
      ]
     },
     "execution_count": 111,
     "metadata": {},
     "output_type": "execute_result"
    }
   ],
   "source": [
    "# Your code here\n",
    "# import necessary libraries\n",
    "import pandas as pd\n",
    "import numpy as np\n",
    "import matplotlib.pyplot as plt\n",
    "\n",
    "diamonds = pd.read_csv('diamonds.csv', index_col=0)\n",
    "diamonds.head()\n"
   ]
  },
  {
   "cell_type": "markdown",
   "metadata": {},
   "source": [
    "The following code checks that you loaded the data correctly:"
   ]
  },
  {
   "cell_type": "code",
   "execution_count": 112,
   "metadata": {},
   "outputs": [],
   "source": [
    "# Run this cell without changes\n",
    "\n",
    "# diamonds should be a dataframe\n",
    "assert type(diamonds) == pd.DataFrame\n",
    "\n",
    "# Check that there are the correct number of rows\n",
    "assert diamonds.shape[0] == 53940\n",
    "\n",
    "# Check that there are the correct number of columns\n",
    "# (if this crashes, make sure you specified `index_col=0`)\n",
    "assert diamonds.shape[1] == 10"
   ]
  },
  {
   "cell_type": "markdown",
   "metadata": {},
   "source": [
    "Inspect the distributions of the numeric features:"
   ]
  },
  {
   "cell_type": "code",
   "execution_count": 113,
   "metadata": {},
   "outputs": [
    {
     "data": {
      "application/vnd.microsoft.datawrangler.viewer.v0+json": {
       "columns": [
        {
         "name": "index",
         "rawType": "object",
         "type": "string"
        },
        {
         "name": "carat",
         "rawType": "float64",
         "type": "float"
        },
        {
         "name": "depth",
         "rawType": "float64",
         "type": "float"
        },
        {
         "name": "table",
         "rawType": "float64",
         "type": "float"
        },
        {
         "name": "price",
         "rawType": "float64",
         "type": "float"
        },
        {
         "name": "x",
         "rawType": "float64",
         "type": "float"
        },
        {
         "name": "y",
         "rawType": "float64",
         "type": "float"
        },
        {
         "name": "z",
         "rawType": "float64",
         "type": "float"
        }
       ],
       "conversionMethod": "pd.DataFrame",
       "ref": "e766db26-8458-4522-b609-5688654ef57d",
       "rows": [
        [
         "count",
         "53940.0",
         "53940.0",
         "53940.0",
         "53940.0",
         "53940.0",
         "53940.0",
         "53940.0"
        ],
        [
         "mean",
         "0.7979397478680014",
         "61.749404894327036",
         "57.45718390804598",
         "3932.799721913237",
         "5.731157211716722",
         "5.734525954764553",
         "3.5387337782721544"
        ],
        [
         "std",
         "0.4740112444054184",
         "1.432621318833661",
         "2.2344905628213225",
         "3989.439738146379",
         "1.1217607467924928",
         "1.1421346741235552",
         "0.7056988469499941"
        ],
        [
         "min",
         "0.2",
         "43.0",
         "43.0",
         "326.0",
         "0.0",
         "0.0",
         "0.0"
        ],
        [
         "25%",
         "0.4",
         "61.0",
         "56.0",
         "950.0",
         "4.71",
         "4.72",
         "2.91"
        ],
        [
         "50%",
         "0.7",
         "61.8",
         "57.0",
         "2401.0",
         "5.7",
         "5.71",
         "3.53"
        ],
        [
         "75%",
         "1.04",
         "62.5",
         "59.0",
         "5324.25",
         "6.54",
         "6.54",
         "4.04"
        ],
        [
         "max",
         "5.01",
         "79.0",
         "95.0",
         "18823.0",
         "10.74",
         "58.9",
         "31.8"
        ]
       ],
       "shape": {
        "columns": 7,
        "rows": 8
       }
      },
      "text/html": [
       "<div>\n",
       "<style scoped>\n",
       "    .dataframe tbody tr th:only-of-type {\n",
       "        vertical-align: middle;\n",
       "    }\n",
       "\n",
       "    .dataframe tbody tr th {\n",
       "        vertical-align: top;\n",
       "    }\n",
       "\n",
       "    .dataframe thead th {\n",
       "        text-align: right;\n",
       "    }\n",
       "</style>\n",
       "<table border=\"1\" class=\"dataframe\">\n",
       "  <thead>\n",
       "    <tr style=\"text-align: right;\">\n",
       "      <th></th>\n",
       "      <th>carat</th>\n",
       "      <th>depth</th>\n",
       "      <th>table</th>\n",
       "      <th>price</th>\n",
       "      <th>x</th>\n",
       "      <th>y</th>\n",
       "      <th>z</th>\n",
       "    </tr>\n",
       "  </thead>\n",
       "  <tbody>\n",
       "    <tr>\n",
       "      <th>count</th>\n",
       "      <td>53940.000000</td>\n",
       "      <td>53940.000000</td>\n",
       "      <td>53940.000000</td>\n",
       "      <td>53940.000000</td>\n",
       "      <td>53940.000000</td>\n",
       "      <td>53940.000000</td>\n",
       "      <td>53940.000000</td>\n",
       "    </tr>\n",
       "    <tr>\n",
       "      <th>mean</th>\n",
       "      <td>0.797940</td>\n",
       "      <td>61.749405</td>\n",
       "      <td>57.457184</td>\n",
       "      <td>3932.799722</td>\n",
       "      <td>5.731157</td>\n",
       "      <td>5.734526</td>\n",
       "      <td>3.538734</td>\n",
       "    </tr>\n",
       "    <tr>\n",
       "      <th>std</th>\n",
       "      <td>0.474011</td>\n",
       "      <td>1.432621</td>\n",
       "      <td>2.234491</td>\n",
       "      <td>3989.439738</td>\n",
       "      <td>1.121761</td>\n",
       "      <td>1.142135</td>\n",
       "      <td>0.705699</td>\n",
       "    </tr>\n",
       "    <tr>\n",
       "      <th>min</th>\n",
       "      <td>0.200000</td>\n",
       "      <td>43.000000</td>\n",
       "      <td>43.000000</td>\n",
       "      <td>326.000000</td>\n",
       "      <td>0.000000</td>\n",
       "      <td>0.000000</td>\n",
       "      <td>0.000000</td>\n",
       "    </tr>\n",
       "    <tr>\n",
       "      <th>25%</th>\n",
       "      <td>0.400000</td>\n",
       "      <td>61.000000</td>\n",
       "      <td>56.000000</td>\n",
       "      <td>950.000000</td>\n",
       "      <td>4.710000</td>\n",
       "      <td>4.720000</td>\n",
       "      <td>2.910000</td>\n",
       "    </tr>\n",
       "    <tr>\n",
       "      <th>50%</th>\n",
       "      <td>0.700000</td>\n",
       "      <td>61.800000</td>\n",
       "      <td>57.000000</td>\n",
       "      <td>2401.000000</td>\n",
       "      <td>5.700000</td>\n",
       "      <td>5.710000</td>\n",
       "      <td>3.530000</td>\n",
       "    </tr>\n",
       "    <tr>\n",
       "      <th>75%</th>\n",
       "      <td>1.040000</td>\n",
       "      <td>62.500000</td>\n",
       "      <td>59.000000</td>\n",
       "      <td>5324.250000</td>\n",
       "      <td>6.540000</td>\n",
       "      <td>6.540000</td>\n",
       "      <td>4.040000</td>\n",
       "    </tr>\n",
       "    <tr>\n",
       "      <th>max</th>\n",
       "      <td>5.010000</td>\n",
       "      <td>79.000000</td>\n",
       "      <td>95.000000</td>\n",
       "      <td>18823.000000</td>\n",
       "      <td>10.740000</td>\n",
       "      <td>58.900000</td>\n",
       "      <td>31.800000</td>\n",
       "    </tr>\n",
       "  </tbody>\n",
       "</table>\n",
       "</div>"
      ],
      "text/plain": [
       "              carat         depth         table         price             x  \\\n",
       "count  53940.000000  53940.000000  53940.000000  53940.000000  53940.000000   \n",
       "mean       0.797940     61.749405     57.457184   3932.799722      5.731157   \n",
       "std        0.474011      1.432621      2.234491   3989.439738      1.121761   \n",
       "min        0.200000     43.000000     43.000000    326.000000      0.000000   \n",
       "25%        0.400000     61.000000     56.000000    950.000000      4.710000   \n",
       "50%        0.700000     61.800000     57.000000   2401.000000      5.700000   \n",
       "75%        1.040000     62.500000     59.000000   5324.250000      6.540000   \n",
       "max        5.010000     79.000000     95.000000  18823.000000     10.740000   \n",
       "\n",
       "                  y             z  \n",
       "count  53940.000000  53940.000000  \n",
       "mean       5.734526      3.538734  \n",
       "std        1.142135      0.705699  \n",
       "min        0.000000      0.000000  \n",
       "25%        4.720000      2.910000  \n",
       "50%        5.710000      3.530000  \n",
       "75%        6.540000      4.040000  \n",
       "max       58.900000     31.800000  "
      ]
     },
     "execution_count": 113,
     "metadata": {},
     "output_type": "execute_result"
    }
   ],
   "source": [
    "# Run this cell without changes\n",
    "diamonds.describe()"
   ]
  },
  {
   "cell_type": "code",
   "execution_count": 114,
   "metadata": {},
   "outputs": [
    {
     "name": "stdout",
     "output_type": "stream",
     "text": [
      "<class 'pandas.core.frame.DataFrame'>\n",
      "Index: 53940 entries, 1 to 53940\n",
      "Data columns (total 10 columns):\n",
      " #   Column   Non-Null Count  Dtype  \n",
      "---  ------   --------------  -----  \n",
      " 0   carat    53940 non-null  float64\n",
      " 1   cut      53940 non-null  object \n",
      " 2   color    53940 non-null  object \n",
      " 3   clarity  53940 non-null  object \n",
      " 4   depth    53940 non-null  float64\n",
      " 5   table    53940 non-null  float64\n",
      " 6   price    53940 non-null  int64  \n",
      " 7   x        53940 non-null  float64\n",
      " 8   y        53940 non-null  float64\n",
      " 9   z        53940 non-null  float64\n",
      "dtypes: float64(6), int64(1), object(3)\n",
      "memory usage: 4.5+ MB\n"
     ]
    }
   ],
   "source": [
    "# View the data types of the columns\n",
    "diamonds.info()"
   ]
  },
  {
   "cell_type": "markdown",
   "metadata": {},
   "source": [
    "And inspect the value counts for the categorical features:"
   ]
  },
  {
   "cell_type": "code",
   "execution_count": 115,
   "metadata": {},
   "outputs": [
    {
     "name": "stdout",
     "output_type": "stream",
     "text": [
      "cut\n",
      "Ideal        21551\n",
      "Premium      13791\n",
      "Very Good    12082\n",
      "Good          4906\n",
      "Fair          1610\n",
      "Name: count, dtype: int64 \n",
      "\n",
      "color\n",
      "G    11292\n",
      "E     9797\n",
      "F     9542\n",
      "H     8304\n",
      "D     6775\n",
      "I     5422\n",
      "J     2808\n",
      "Name: count, dtype: int64 \n",
      "\n",
      "clarity\n",
      "SI1     13065\n",
      "VS2     12258\n",
      "SI2      9194\n",
      "VS1      8171\n",
      "VVS2     5066\n",
      "VVS1     3655\n",
      "IF       1790\n",
      "I1        741\n",
      "Name: count, dtype: int64 \n",
      "\n"
     ]
    }
   ],
   "source": [
    "# Run this cell without changes\n",
    "categoricals = diamonds.select_dtypes(\"object\")\n",
    "\n",
    "for col in categoricals:\n",
    "    print(diamonds[col].value_counts(), \"\\n\")"
   ]
  },
  {
   "cell_type": "code",
   "execution_count": 116,
   "metadata": {},
   "outputs": [
    {
     "data": {
      "text/plain": [
       "carat      0\n",
       "cut        0\n",
       "color      0\n",
       "clarity    0\n",
       "depth      0\n",
       "table      0\n",
       "price      0\n",
       "x          0\n",
       "y          0\n",
       "z          0\n",
       "dtype: int64"
      ]
     },
     "execution_count": 116,
     "metadata": {},
     "output_type": "execute_result"
    }
   ],
   "source": [
    "# Inspect if the dataframe has any missing values\n",
    "diamonds.isnull().sum()"
   ]
  },
  {
   "cell_type": "code",
   "execution_count": 117,
   "metadata": {},
   "outputs": [
    {
     "name": "stdout",
     "output_type": "stream",
     "text": [
      "Number of duplicates:  146\n"
     ]
    }
   ],
   "source": [
    "# Check for duplicates\n",
    "print(\"Number of duplicates: \", diamonds.duplicated().sum())"
   ]
  },
  {
   "cell_type": "code",
   "execution_count": 118,
   "metadata": {},
   "outputs": [
    {
     "name": "stdout",
     "output_type": "stream",
     "text": [
      "Number of duplicates after dropping:  0\n"
     ]
    }
   ],
   "source": [
    "# drop duplicates\n",
    "diamonds.drop_duplicates(inplace=True)\n",
    "print(\"Number of duplicates after dropping: \", diamonds.duplicated().sum())"
   ]
  },
  {
   "cell_type": "markdown",
   "metadata": {},
   "source": [
    "## 2. Build a Baseline Simple Linear Regression Model\n",
    "\n",
    "### Identifying a Highly Correlated Predictor\n",
    "\n",
    "The target variable is `price`. Look at the correlation coefficients for all of the predictor variables to find the one with the highest correlation with `price`."
   ]
  },
  {
   "cell_type": "code",
   "execution_count": 119,
   "metadata": {},
   "outputs": [
    {
     "data": {
      "application/vnd.microsoft.datawrangler.viewer.v0+json": {
       "columns": [
        {
         "name": "index",
         "rawType": "object",
         "type": "string"
        },
        {
         "name": "carat",
         "rawType": "float64",
         "type": "float"
        },
        {
         "name": "depth",
         "rawType": "float64",
         "type": "float"
        },
        {
         "name": "table",
         "rawType": "float64",
         "type": "float"
        },
        {
         "name": "price",
         "rawType": "float64",
         "type": "float"
        },
        {
         "name": "x",
         "rawType": "float64",
         "type": "float"
        },
        {
         "name": "y",
         "rawType": "float64",
         "type": "float"
        },
        {
         "name": "z",
         "rawType": "float64",
         "type": "float"
        }
       ],
       "conversionMethod": "pd.DataFrame",
       "ref": "af6fd584-b35b-4722-a777-c59762d902da",
       "rows": [
        [
         "carat",
         "1.0",
         "0.02786088988604045",
         "0.18109110520764227",
         "0.9215483214030163",
         "0.9753796376444227",
         "0.951908406507332",
         "0.9535419924501989"
        ],
        [
         "depth",
         "0.02786088988604045",
         "1.0",
         "-0.2976691225286014",
         "-0.01104752186795217",
         "-0.025348320541656328",
         "-0.029389122919680096",
         "0.09475724793583402"
        ],
        [
         "table",
         "0.18109110520764227",
         "-0.2976691225286014",
         "1.0",
         "0.12656608744342746",
         "0.19485492285832526",
         "0.1832309519061885",
         "0.15027031921287842"
        ],
        [
         "price",
         "0.9215483214030163",
         "-0.01104752186795217",
         "0.12656608744342746",
         "1.0",
         "0.88450403751755",
         "0.8653952444045",
         "0.8612077326584773"
        ],
        [
         "x",
         "0.9753796376444227",
         "-0.025348320541656328",
         "0.19485492285832526",
         "0.88450403751755",
         "1.0",
         "0.9745922289703873",
         "0.9706862032534105"
        ],
        [
         "y",
         "0.951908406507332",
         "-0.029389122919680096",
         "0.1832309519061885",
         "0.8653952444045",
         "0.9745922289703873",
         "1.0",
         "0.9518439491151917"
        ],
        [
         "z",
         "0.9535419924501989",
         "0.09475724793583402",
         "0.15027031921287842",
         "0.8612077326584773",
         "0.9706862032534105",
         "0.9518439491151917",
         "1.0"
        ]
       ],
       "shape": {
        "columns": 7,
        "rows": 7
       }
      },
      "text/html": [
       "<div>\n",
       "<style scoped>\n",
       "    .dataframe tbody tr th:only-of-type {\n",
       "        vertical-align: middle;\n",
       "    }\n",
       "\n",
       "    .dataframe tbody tr th {\n",
       "        vertical-align: top;\n",
       "    }\n",
       "\n",
       "    .dataframe thead th {\n",
       "        text-align: right;\n",
       "    }\n",
       "</style>\n",
       "<table border=\"1\" class=\"dataframe\">\n",
       "  <thead>\n",
       "    <tr style=\"text-align: right;\">\n",
       "      <th></th>\n",
       "      <th>carat</th>\n",
       "      <th>depth</th>\n",
       "      <th>table</th>\n",
       "      <th>price</th>\n",
       "      <th>x</th>\n",
       "      <th>y</th>\n",
       "      <th>z</th>\n",
       "    </tr>\n",
       "  </thead>\n",
       "  <tbody>\n",
       "    <tr>\n",
       "      <th>carat</th>\n",
       "      <td>1.000000</td>\n",
       "      <td>0.027861</td>\n",
       "      <td>0.181091</td>\n",
       "      <td>0.921548</td>\n",
       "      <td>0.975380</td>\n",
       "      <td>0.951908</td>\n",
       "      <td>0.953542</td>\n",
       "    </tr>\n",
       "    <tr>\n",
       "      <th>depth</th>\n",
       "      <td>0.027861</td>\n",
       "      <td>1.000000</td>\n",
       "      <td>-0.297669</td>\n",
       "      <td>-0.011048</td>\n",
       "      <td>-0.025348</td>\n",
       "      <td>-0.029389</td>\n",
       "      <td>0.094757</td>\n",
       "    </tr>\n",
       "    <tr>\n",
       "      <th>table</th>\n",
       "      <td>0.181091</td>\n",
       "      <td>-0.297669</td>\n",
       "      <td>1.000000</td>\n",
       "      <td>0.126566</td>\n",
       "      <td>0.194855</td>\n",
       "      <td>0.183231</td>\n",
       "      <td>0.150270</td>\n",
       "    </tr>\n",
       "    <tr>\n",
       "      <th>price</th>\n",
       "      <td>0.921548</td>\n",
       "      <td>-0.011048</td>\n",
       "      <td>0.126566</td>\n",
       "      <td>1.000000</td>\n",
       "      <td>0.884504</td>\n",
       "      <td>0.865395</td>\n",
       "      <td>0.861208</td>\n",
       "    </tr>\n",
       "    <tr>\n",
       "      <th>x</th>\n",
       "      <td>0.975380</td>\n",
       "      <td>-0.025348</td>\n",
       "      <td>0.194855</td>\n",
       "      <td>0.884504</td>\n",
       "      <td>1.000000</td>\n",
       "      <td>0.974592</td>\n",
       "      <td>0.970686</td>\n",
       "    </tr>\n",
       "    <tr>\n",
       "      <th>y</th>\n",
       "      <td>0.951908</td>\n",
       "      <td>-0.029389</td>\n",
       "      <td>0.183231</td>\n",
       "      <td>0.865395</td>\n",
       "      <td>0.974592</td>\n",
       "      <td>1.000000</td>\n",
       "      <td>0.951844</td>\n",
       "    </tr>\n",
       "    <tr>\n",
       "      <th>z</th>\n",
       "      <td>0.953542</td>\n",
       "      <td>0.094757</td>\n",
       "      <td>0.150270</td>\n",
       "      <td>0.861208</td>\n",
       "      <td>0.970686</td>\n",
       "      <td>0.951844</td>\n",
       "      <td>1.000000</td>\n",
       "    </tr>\n",
       "  </tbody>\n",
       "</table>\n",
       "</div>"
      ],
      "text/plain": [
       "          carat     depth     table     price         x         y         z\n",
       "carat  1.000000  0.027861  0.181091  0.921548  0.975380  0.951908  0.953542\n",
       "depth  0.027861  1.000000 -0.297669 -0.011048 -0.025348 -0.029389  0.094757\n",
       "table  0.181091 -0.297669  1.000000  0.126566  0.194855  0.183231  0.150270\n",
       "price  0.921548 -0.011048  0.126566  1.000000  0.884504  0.865395  0.861208\n",
       "x      0.975380 -0.025348  0.194855  0.884504  1.000000  0.974592  0.970686\n",
       "y      0.951908 -0.029389  0.183231  0.865395  0.974592  1.000000  0.951844\n",
       "z      0.953542  0.094757  0.150270  0.861208  0.970686  0.951844  1.000000"
      ]
     },
     "execution_count": 119,
     "metadata": {},
     "output_type": "execute_result"
    }
   ],
   "source": [
    "# Your code here - look at correlations\n",
    "numerical_cols = diamonds.select_dtypes(\"number\")\n",
    "correlations = numerical_cols.corr()\n",
    "correlations\n",
    "\n"
   ]
  },
  {
   "cell_type": "markdown",
   "metadata": {},
   "source": [
    "Identify the name of the predictor column with the strongest correlation below."
   ]
  },
  {
   "cell_type": "code",
   "execution_count": 120,
   "metadata": {},
   "outputs": [
    {
     "data": {
      "text/plain": [
       "'carat'"
      ]
     },
     "execution_count": 120,
     "metadata": {},
     "output_type": "execute_result"
    }
   ],
   "source": [
    "# Replace None with appropriate code\n",
    "most_correlated = correlations.loc[\"price\"].sort_values(ascending=False).index[1]\n",
    "most_correlated"
   ]
  },
  {
   "cell_type": "markdown",
   "metadata": {},
   "source": [
    "The following code checks that you specified a column correctly:"
   ]
  },
  {
   "cell_type": "code",
   "execution_count": 121,
   "metadata": {},
   "outputs": [],
   "source": [
    "# Run this cell without changes\n",
    "\n",
    "# most_correlated should be a string\n",
    "assert type(most_correlated) == str\n",
    "\n",
    "# most_correlated should be one of the columns other than price\n",
    "assert most_correlated in diamonds.drop(\"price\", axis=1).columns"
   ]
  },
  {
   "cell_type": "markdown",
   "metadata": {},
   "source": [
    "### Plotting the Predictor vs. Price\n",
    "\n",
    "We'll also create a scatter plot of that variable vs. `price`:"
   ]
  },
  {
   "cell_type": "code",
   "execution_count": 122,
   "metadata": {},
   "outputs": [
    {
     "data": {
      "image/png": "[encoded data removed]",
      "text/plain": [
       "<Figure size 640x480 with 1 Axes>"
      ]
     },
     "metadata": {},
     "output_type": "display_data"
    }
   ],
   "source": [
    "# Run this cell without changes\n",
    "\n",
    "# Plot a sample of 1000 data points, most_correlated vs. price\n",
    "diamonds.sample(1000, random_state=1).plot.scatter(x=most_correlated, y=\"price\");"
   ]
  },
  {
   "cell_type": "markdown",
   "metadata": {},
   "source": [
    "*Interpretation*\n",
    "\n",
    " - The scatter plot shows a positive correlation between the most correlated variable(carat) and price.\n",
    " - There is linear relationship between carat and price.\n"
   ]
  },
  {
   "cell_type": "markdown",
   "metadata": {},
   "source": [
    "### Setting Up Variables for Regression\n",
    "\n",
    "Declare `y` and `X_baseline` variables, where `y` is a Series containing `price` data and `X_baseline` is a DataFrame containing the column with the strongest correlation."
   ]
  },
  {
   "cell_type": "code",
   "execution_count": 123,
   "metadata": {},
   "outputs": [],
   "source": [
    "# Replace None with appropriate code\n",
    "y = diamonds['price']\n",
    "X_baseline = diamonds['carat']\n"
   ]
  },
  {
   "cell_type": "code",
   "execution_count": 124,
   "metadata": {},
   "outputs": [],
   "source": [
    "type(X_baseline)\n",
    "\n",
    "# convert X_baseline to dataframe\n",
    "X_baseline = pd.DataFrame(X_baseline)"
   ]
  },
  {
   "cell_type": "markdown",
   "metadata": {},
   "source": [
    "The following code checks that you created valid `y` and `X_baseline` variables:"
   ]
  },
  {
   "cell_type": "code",
   "execution_count": 125,
   "metadata": {},
   "outputs": [
    {
     "data": {
      "text/plain": [
       "(53794,)"
      ]
     },
     "execution_count": 125,
     "metadata": {},
     "output_type": "execute_result"
    }
   ],
   "source": [
    "y.shape"
   ]
  },
  {
   "cell_type": "code",
   "execution_count": 126,
   "metadata": {},
   "outputs": [],
   "source": [
    "# Run this code without changes\n",
    "\n",
    "# y should be a series\n",
    "assert type(y) == pd.Series\n",
    "\n",
    "# y should contain about 54k rows\n",
    "assert y.shape == (53794,)\n",
    "\n",
    "# X_baseline should be a DataFrame\n",
    "assert type(X_baseline) == pd.DataFrame\n",
    "\n",
    "# X_baseline should contain the same number of rows as y\n",
    "assert X_baseline.shape[0] == y.shape[0]\n",
    "\n",
    "# X_baseline should have 1 column\n",
    "assert X_baseline.shape[1] == 1"
   ]
  },
  {
   "cell_type": "markdown",
   "metadata": {},
   "source": [
    "### Creating and Fitting Simple Linear Regression\n",
    "\n",
    "The following code uses your variables to build and fit a simple linear regression."
   ]
  },
  {
   "cell_type": "code",
   "execution_count": 127,
   "metadata": {},
   "outputs": [],
   "source": [
    "# Run this cell without changes\n",
    "import statsmodels.api as sm\n",
    "\n",
    "baseline_model = sm.OLS(y, sm.add_constant(X_baseline))\n",
    "baseline_results = baseline_model.fit()"
   ]
  },
  {
   "cell_type": "markdown",
   "metadata": {},
   "source": [
    "## 3. Evaluate and Interpret Baseline Model Results\n",
    "\n",
    "Write any necessary code to evaluate the model performance overall and interpret its coefficients."
   ]
  },
  {
   "cell_type": "code",
   "execution_count": 128,
   "metadata": {},
   "outputs": [
    {
     "data": {
      "text/html": [
       "<table class=\"simpletable\">\n",
       "<caption>OLS Regression Results</caption>\n",
       "<tr>\n",
       "  <th>Dep. Variable:</th>          <td>price</td>      <th>  R-squared:         </th>  <td>   0.849</td>  \n",
       "</tr>\n",
       "<tr>\n",
       "  <th>Model:</th>                   <td>OLS</td>       <th>  Adj. R-squared:    </th>  <td>   0.849</td>  \n",
       "</tr>\n",
       "<tr>\n",
       "  <th>Method:</th>             <td>Least Squares</td>  <th>  F-statistic:       </th>  <td>3.030e+05</td> \n",
       "</tr>\n",
       "<tr>\n",
       "  <th>Date:</th>             <td>Tue, 15 Apr 2025</td> <th>  Prob (F-statistic):</th>   <td>  0.00</td>   \n",
       "</tr>\n",
       "<tr>\n",
       "  <th>Time:</th>                 <td>16:04:27</td>     <th>  Log-Likelihood:    </th> <td>-4.7145e+05</td>\n",
       "</tr>\n",
       "<tr>\n",
       "  <th>No. Observations:</th>      <td> 53794</td>      <th>  AIC:               </th>  <td>9.429e+05</td> \n",
       "</tr>\n",
       "<tr>\n",
       "  <th>Df Residuals:</th>          <td> 53792</td>      <th>  BIC:               </th>  <td>9.429e+05</td> \n",
       "</tr>\n",
       "<tr>\n",
       "  <th>Df Model:</th>              <td>     1</td>      <th>                     </th>      <td> </td>     \n",
       "</tr>\n",
       "<tr>\n",
       "  <th>Covariance Type:</th>      <td>nonrobust</td>    <th>                     </th>      <td> </td>     \n",
       "</tr>\n",
       "</table>\n",
       "<table class=\"simpletable\">\n",
       "<tr>\n",
       "    <td></td>       <th>coef</th>     <th>std err</th>      <th>t</th>      <th>P>|t|</th>  <th>[0.025</th>    <th>0.975]</th>  \n",
       "</tr>\n",
       "<tr>\n",
       "  <th>const</th> <td>-2260.6268</td> <td>   13.083</td> <td> -172.793</td> <td> 0.000</td> <td>-2286.269</td> <td>-2234.984</td>\n",
       "</tr>\n",
       "<tr>\n",
       "  <th>carat</th> <td> 7763.6586</td> <td>   14.103</td> <td>  550.491</td> <td> 0.000</td> <td> 7736.016</td> <td> 7791.301</td>\n",
       "</tr>\n",
       "</table>\n",
       "<table class=\"simpletable\">\n",
       "<tr>\n",
       "  <th>Omnibus:</th>       <td>13955.519</td> <th>  Durbin-Watson:     </th>  <td>   0.991</td> \n",
       "</tr>\n",
       "<tr>\n",
       "  <th>Prob(Omnibus):</th>  <td> 0.000</td>   <th>  Jarque-Bera (JB):  </th> <td>153135.105</td>\n",
       "</tr>\n",
       "<tr>\n",
       "  <th>Skew:</th>           <td> 0.935</td>   <th>  Prob(JB):          </th>  <td>    0.00</td> \n",
       "</tr>\n",
       "<tr>\n",
       "  <th>Kurtosis:</th>       <td>11.051</td>   <th>  Cond. No.          </th>  <td>    3.66</td> \n",
       "</tr>\n",
       "</table><br/><br/>Notes:<br/>[1] Standard Errors assume that the covariance matrix of the errors is correctly specified."
      ],
      "text/latex": [
       "\\begin{center}\n",
       "\\begin{tabular}{lclc}\n",
       "\\toprule\n",
       "\\textbf{Dep. Variable:}    &      price       & \\textbf{  R-squared:         } &      0.849   \\\\\n",
       "\\textbf{Model:}            &       OLS        & \\textbf{  Adj. R-squared:    } &      0.849   \\\\\n",
       "\\textbf{Method:}           &  Least Squares   & \\textbf{  F-statistic:       } &  3.030e+05   \\\\\n",
       "\\textbf{Date:}             & Tue, 15 Apr 2025 & \\textbf{  Prob (F-statistic):} &      0.00    \\\\\n",
       "\\textbf{Time:}             &     16:04:27     & \\textbf{  Log-Likelihood:    } & -4.7145e+05  \\\\\n",
       "\\textbf{No. Observations:} &       53794      & \\textbf{  AIC:               } &  9.429e+05   \\\\\n",
       "\\textbf{Df Residuals:}     &       53792      & \\textbf{  BIC:               } &  9.429e+05   \\\\\n",
       "\\textbf{Df Model:}         &           1      & \\textbf{                     } &              \\\\\n",
       "\\textbf{Covariance Type:}  &    nonrobust     & \\textbf{                     } &              \\\\\n",
       "\\bottomrule\n",
       "\\end{tabular}\n",
       "\\begin{tabular}{lcccccc}\n",
       "               & \\textbf{coef} & \\textbf{std err} & \\textbf{t} & \\textbf{P$> |$t$|$} & \\textbf{[0.025} & \\textbf{0.975]}  \\\\\n",
       "\\midrule\n",
       "\\textbf{const} &   -2260.6268  &       13.083     &  -172.793  &         0.000        &    -2286.269    &    -2234.984     \\\\\n",
       "\\textbf{carat} &    7763.6586  &       14.103     &   550.491  &         0.000        &     7736.016    &     7791.301     \\\\\n",
       "\\bottomrule\n",
       "\\end{tabular}\n",
       "\\begin{tabular}{lclc}\n",
       "\\textbf{Omnibus:}       & 13955.519 & \\textbf{  Durbin-Watson:     } &     0.991   \\\\\n",
       "\\textbf{Prob(Omnibus):} &    0.000  & \\textbf{  Jarque-Bera (JB):  } & 153135.105  \\\\\n",
       "\\textbf{Skew:}          &    0.935  & \\textbf{  Prob(JB):          } &      0.00   \\\\\n",
       "\\textbf{Kurtosis:}      &   11.051  & \\textbf{  Cond. No.          } &      3.66   \\\\\n",
       "\\bottomrule\n",
       "\\end{tabular}\n",
       "%\\caption{OLS Regression Results}\n",
       "\\end{center}\n",
       "\n",
       "Notes: \\newline\n",
       " [1] Standard Errors assume that the covariance matrix of the errors is correctly specified."
      ],
      "text/plain": [
       "<class 'statsmodels.iolib.summary.Summary'>\n",
       "\"\"\"\n",
       "                            OLS Regression Results                            \n",
       "==============================================================================\n",
       "Dep. Variable:                  price   R-squared:                       0.849\n",
       "Model:                            OLS   Adj. R-squared:                  0.849\n",
       "Method:                 Least Squares   F-statistic:                 3.030e+05\n",
       "Date:                Tue, 15 Apr 2025   Prob (F-statistic):               0.00\n",
       "Time:                        16:04:27   Log-Likelihood:            -4.7145e+05\n",
       "No. Observations:               53794   AIC:                         9.429e+05\n",
       "Df Residuals:                   53792   BIC:                         9.429e+05\n",
       "Df Model:                           1                                         \n",
       "Covariance Type:            nonrobust                                         \n",
       "==============================================================================\n",
       "                 coef    std err          t      P>|t|      [0.025      0.975]\n",
       "------------------------------------------------------------------------------\n",
       "const      -2260.6268     13.083   -172.793      0.000   -2286.269   -2234.984\n",
       "carat       7763.6586     14.103    550.491      0.000    7736.016    7791.301\n",
       "==============================================================================\n",
       "Omnibus:                    13955.519   Durbin-Watson:                   0.991\n",
       "Prob(Omnibus):                  0.000   Jarque-Bera (JB):           153135.105\n",
       "Skew:                           0.935   Prob(JB):                         0.00\n",
       "Kurtosis:                      11.051   Cond. No.                         3.66\n",
       "==============================================================================\n",
       "\n",
       "Notes:\n",
       "[1] Standard Errors assume that the covariance matrix of the errors is correctly specified.\n",
       "\"\"\""
      ]
     },
     "execution_count": 128,
     "metadata": {},
     "output_type": "execute_result"
    }
   ],
   "source": [
    "# Your code here\n",
    "baseline_results.summary()"
   ]
  },
  {
   "cell_type": "markdown",
   "metadata": {},
   "source": [
    "Then summarize your findings below:"
   ]
  },
  {
   "cell_type": "code",
   "execution_count": 129,
   "metadata": {},
   "outputs": [],
   "source": [
    "# Your written answer here\n",
    "# The R-squared value is 0.850, which indicates that 86% of the variance in the price can be explained by the carat weight of the diamonds.\n",
    "# The model is statistically significant with a p-value of less than the standard 0.05"
   ]
  },
  {
   "cell_type": "markdown",
   "metadata": {},
   "source": [
    "*ANSWER*\n",
    "- The R-squared value is 0.850, which indicates that 86% of the variance in the price can be explained by the carat weight of the diamonds.\n",
    "- The model is statistically significant with a p-value of less than the standard 0.05"
   ]
  },
  {
   "cell_type": "markdown",
   "metadata": {},
   "source": [
    "<details>\n",
    "    <summary style=\"cursor: pointer\"><b>Solution (click to expand)</b></summary>\n",
    "\n",
    "`carat` was the attribute most strongly correlated with `price`, therefore our model is describing this relationship.\n",
    "\n",
    "Overall this model is statistically significant and explains about 85% of the variance in price. In a typical prediction, the model is off by about &dollar;1k.\n",
    "\n",
    "* The intercept is at about -\\\\$2.3k. This means that a zero-carat diamond would sell for -\\\\$2.3k.\n",
    "* The coefficient for `carat` is about \\\\$7.8k. This means for each additional carat, the diamond costs about \\\\$7.8k more.\n",
    "\n",
    "</details>    "
   ]
  },
  {
   "cell_type": "markdown",
   "metadata": {},
   "source": [
    "## 4. Prepare a Categorical Feature for Multiple Regression Modeling\n",
    "\n",
    "Now let's go beyond our simple linear regression and add a categorical feature.\n",
    "\n",
    "### Identifying a Promising Predictor\n",
    "\n",
    "Below we create bar graphs for the categories present in each categorical feature:"
   ]
  },
  {
   "cell_type": "code",
   "execution_count": 130,
   "metadata": {},
   "outputs": [
    {
     "data": {
      "text/plain": [
       "Index(['cut', 'color', 'clarity'], dtype='object')"
      ]
     },
     "execution_count": 130,
     "metadata": {},
     "output_type": "execute_result"
    }
   ],
   "source": [
    "categorical = diamonds.select_dtypes(\"object\").columns\n",
    "categorical"
   ]
  },
  {
   "cell_type": "code",
   "execution_count": 131,
   "metadata": {},
   "outputs": [
    {
     "data": {
      "image/png": "[encoded data removed]",
      "text/plain": [
       "<Figure size 1200x500 with 3 Axes>"
      ]
     },
     "metadata": {},
     "output_type": "display_data"
    }
   ],
   "source": [
    "# Run this code without changes\n",
    "import matplotlib.pyplot as plt\n",
    "\n",
    "categorical_features = diamonds.select_dtypes(\"object\").columns\n",
    "fig, axes = plt.subplots(ncols=len(categorical_features), figsize=(12,5))\n",
    "\n",
    "for index, feature in enumerate(categorical_features):\n",
    "    diamonds.groupby(feature)['y'].mean().plot.bar(\n",
    "        y=\"price\", ax=axes[index])\n",
    "plt.tight_layout()\n",
    "plt.show()"
   ]
  },
  {
   "cell_type": "markdown",
   "metadata": {},
   "source": [
    "Identify the name of the categorical predictor column you want to use in your model below. The choice here is more open-ended than choosing the numeric predictor above -- choose something that will be interpretable in a final model, and where the different categories seem to have an impact on the price."
   ]
  },
  {
   "cell_type": "code",
   "execution_count": 132,
   "metadata": {},
   "outputs": [],
   "source": [
    "# Replace None with appropriate code\n",
    "cat_col = 'cut'"
   ]
  },
  {
   "cell_type": "markdown",
   "metadata": {},
   "source": [
    "The following code checks that you specified a column correctly:"
   ]
  },
  {
   "cell_type": "code",
   "execution_count": 133,
   "metadata": {},
   "outputs": [],
   "source": [
    "# Run this cell without changes\n",
    "\n",
    "# cat_col should be a string\n",
    "assert type(cat_col) == str\n",
    "\n",
    "# cat_col should be one of the categorical columns\n",
    "assert cat_col in diamonds.select_dtypes(\"object\").columns"
   ]
  },
  {
   "cell_type": "markdown",
   "metadata": {},
   "source": [
    "### Setting Up Variables for Regression\n",
    "\n",
    "The code below creates a variable `X_iterated`: a DataFrame containing the column with the strongest correlation **and** your selected categorical feature."
   ]
  },
  {
   "cell_type": "code",
   "execution_count": 134,
   "metadata": {},
   "outputs": [
    {
     "data": {
      "application/vnd.microsoft.datawrangler.viewer.v0+json": {
       "columns": [
        {
         "name": "index",
         "rawType": "int64",
         "type": "integer"
        },
        {
         "name": "carat",
         "rawType": "float64",
         "type": "float"
        },
        {
         "name": "cut",
         "rawType": "object",
         "type": "string"
        }
       ],
       "conversionMethod": "pd.DataFrame",
       "ref": "7a55d615-3c34-4ce4-8f4f-31381e630158",
       "rows": [
        [
         "1",
         "0.23",
         "Ideal"
        ],
        [
         "2",
         "0.21",
         "Premium"
        ],
        [
         "3",
         "0.23",
         "Good"
        ],
        [
         "4",
         "0.29",
         "Premium"
        ],
        [
         "5",
         "0.31",
         "Good"
        ],
        [
         "6",
         "0.24",
         "Very Good"
        ],
        [
         "7",
         "0.24",
         "Very Good"
        ],
        [
         "8",
         "0.26",
         "Very Good"
        ],
        [
         "9",
         "0.22",
         "Fair"
        ],
        [
         "10",
         "0.23",
         "Very Good"
        ],
        [
         "11",
         "0.3",
         "Good"
        ],
        [
         "12",
         "0.23",
         "Ideal"
        ],
        [
         "13",
         "0.22",
         "Premium"
        ],
        [
         "14",
         "0.31",
         "Ideal"
        ],
        [
         "15",
         "0.2",
         "Premium"
        ],
        [
         "16",
         "0.32",
         "Premium"
        ],
        [
         "17",
         "0.3",
         "Ideal"
        ],
        [
         "18",
         "0.3",
         "Good"
        ],
        [
         "19",
         "0.3",
         "Good"
        ],
        [
         "20",
         "0.3",
         "Very Good"
        ],
        [
         "21",
         "0.3",
         "Good"
        ],
        [
         "22",
         "0.23",
         "Very Good"
        ],
        [
         "23",
         "0.23",
         "Very Good"
        ],
        [
         "24",
         "0.31",
         "Very Good"
        ],
        [
         "25",
         "0.31",
         "Very Good"
        ],
        [
         "26",
         "0.23",
         "Very Good"
        ],
        [
         "27",
         "0.24",
         "Premium"
        ],
        [
         "28",
         "0.3",
         "Very Good"
        ],
        [
         "29",
         "0.23",
         "Very Good"
        ],
        [
         "30",
         "0.23",
         "Very Good"
        ],
        [
         "31",
         "0.23",
         "Very Good"
        ],
        [
         "32",
         "0.23",
         "Very Good"
        ],
        [
         "33",
         "0.23",
         "Very Good"
        ],
        [
         "34",
         "0.23",
         "Very Good"
        ],
        [
         "35",
         "0.23",
         "Very Good"
        ],
        [
         "36",
         "0.23",
         "Good"
        ],
        [
         "37",
         "0.23",
         "Good"
        ],
        [
         "38",
         "0.31",
         "Good"
        ],
        [
         "39",
         "0.26",
         "Very Good"
        ],
        [
         "40",
         "0.33",
         "Ideal"
        ],
        [
         "41",
         "0.33",
         "Ideal"
        ],
        [
         "42",
         "0.33",
         "Ideal"
        ],
        [
         "43",
         "0.26",
         "Good"
        ],
        [
         "44",
         "0.26",
         "Good"
        ],
        [
         "45",
         "0.32",
         "Good"
        ],
        [
         "46",
         "0.29",
         "Premium"
        ],
        [
         "47",
         "0.32",
         "Very Good"
        ],
        [
         "48",
         "0.32",
         "Good"
        ],
        [
         "49",
         "0.25",
         "Very Good"
        ],
        [
         "50",
         "0.29",
         "Very Good"
        ]
       ],
       "shape": {
        "columns": 2,
        "rows": 53794
       }
      },
      "text/html": [
       "<div>\n",
       "<style scoped>\n",
       "    .dataframe tbody tr th:only-of-type {\n",
       "        vertical-align: middle;\n",
       "    }\n",
       "\n",
       "    .dataframe tbody tr th {\n",
       "        vertical-align: top;\n",
       "    }\n",
       "\n",
       "    .dataframe thead th {\n",
       "        text-align: right;\n",
       "    }\n",
       "</style>\n",
       "<table border=\"1\" class=\"dataframe\">\n",
       "  <thead>\n",
       "    <tr style=\"text-align: right;\">\n",
       "      <th></th>\n",
       "      <th>carat</th>\n",
       "      <th>cut</th>\n",
       "    </tr>\n",
       "  </thead>\n",
       "  <tbody>\n",
       "    <tr>\n",
       "      <th>1</th>\n",
       "      <td>0.23</td>\n",
       "      <td>Ideal</td>\n",
       "    </tr>\n",
       "    <tr>\n",
       "      <th>2</th>\n",
       "      <td>0.21</td>\n",
       "      <td>Premium</td>\n",
       "    </tr>\n",
       "    <tr>\n",
       "      <th>3</th>\n",
       "      <td>0.23</td>\n",
       "      <td>Good</td>\n",
       "    </tr>\n",
       "    <tr>\n",
       "      <th>4</th>\n",
       "      <td>0.29</td>\n",
       "      <td>Premium</td>\n",
       "    </tr>\n",
       "    <tr>\n",
       "      <th>5</th>\n",
       "      <td>0.31</td>\n",
       "      <td>Good</td>\n",
       "    </tr>\n",
       "    <tr>\n",
       "      <th>...</th>\n",
       "      <td>...</td>\n",
       "      <td>...</td>\n",
       "    </tr>\n",
       "    <tr>\n",
       "      <th>53936</th>\n",
       "      <td>0.72</td>\n",
       "      <td>Ideal</td>\n",
       "    </tr>\n",
       "    <tr>\n",
       "      <th>53937</th>\n",
       "      <td>0.72</td>\n",
       "      <td>Good</td>\n",
       "    </tr>\n",
       "    <tr>\n",
       "      <th>53938</th>\n",
       "      <td>0.70</td>\n",
       "      <td>Very Good</td>\n",
       "    </tr>\n",
       "    <tr>\n",
       "      <th>53939</th>\n",
       "      <td>0.86</td>\n",
       "      <td>Premium</td>\n",
       "    </tr>\n",
       "    <tr>\n",
       "      <th>53940</th>\n",
       "      <td>0.75</td>\n",
       "      <td>Ideal</td>\n",
       "    </tr>\n",
       "  </tbody>\n",
       "</table>\n",
       "<p>53794 rows × 2 columns</p>\n",
       "</div>"
      ],
      "text/plain": [
       "       carat        cut\n",
       "1       0.23      Ideal\n",
       "2       0.21    Premium\n",
       "3       0.23       Good\n",
       "4       0.29    Premium\n",
       "5       0.31       Good\n",
       "...      ...        ...\n",
       "53936   0.72      Ideal\n",
       "53937   0.72       Good\n",
       "53938   0.70  Very Good\n",
       "53939   0.86    Premium\n",
       "53940   0.75      Ideal\n",
       "\n",
       "[53794 rows x 2 columns]"
      ]
     },
     "execution_count": 134,
     "metadata": {},
     "output_type": "execute_result"
    }
   ],
   "source": [
    "# Run this cell without changes\n",
    "X_iterated = diamonds[[most_correlated, cat_col]]\n",
    "X_iterated"
   ]
  },
  {
   "cell_type": "markdown",
   "metadata": {},
   "source": [
    "### Preprocessing Categorical Variable\n",
    "\n",
    "If we tried to pass `X_iterated` as-is into `sm.OLS`, we would get an error. We need to use `pd.get_dummies` to create dummy variables for `cat_col`.\n",
    "\n",
    "**DO NOT** use `drop_first=True`, so that you can intentionally set a meaningful reference category instead."
   ]
  },
  {
   "cell_type": "code",
   "execution_count": 135,
   "metadata": {},
   "outputs": [
    {
     "data": {
      "application/vnd.microsoft.datawrangler.viewer.v0+json": {
       "columns": [
        {
         "name": "index",
         "rawType": "int64",
         "type": "integer"
        },
        {
         "name": "carat",
         "rawType": "float64",
         "type": "float"
        },
        {
         "name": "cut_Fair",
         "rawType": "bool",
         "type": "boolean"
        },
        {
         "name": "cut_Good",
         "rawType": "bool",
         "type": "boolean"
        },
        {
         "name": "cut_Ideal",
         "rawType": "bool",
         "type": "boolean"
        },
        {
         "name": "cut_Premium",
         "rawType": "bool",
         "type": "boolean"
        },
        {
         "name": "cut_Very Good",
         "rawType": "bool",
         "type": "boolean"
        }
       ],
       "conversionMethod": "pd.DataFrame",
       "ref": "a183810c-9009-49d4-9571-03235b6ea679",
       "rows": [
        [
         "1",
         "0.23",
         "False",
         "False",
         "True",
         "False",
         "False"
        ],
        [
         "2",
         "0.21",
         "False",
         "False",
         "False",
         "True",
         "False"
        ],
        [
         "3",
         "0.23",
         "False",
         "True",
         "False",
         "False",
         "False"
        ],
        [
         "4",
         "0.29",
         "False",
         "False",
         "False",
         "True",
         "False"
        ],
        [
         "5",
         "0.31",
         "False",
         "True",
         "False",
         "False",
         "False"
        ],
        [
         "6",
         "0.24",
         "False",
         "False",
         "False",
         "False",
         "True"
        ],
        [
         "7",
         "0.24",
         "False",
         "False",
         "False",
         "False",
         "True"
        ],
        [
         "8",
         "0.26",
         "False",
         "False",
         "False",
         "False",
         "True"
        ],
        [
         "9",
         "0.22",
         "True",
         "False",
         "False",
         "False",
         "False"
        ],
        [
         "10",
         "0.23",
         "False",
         "False",
         "False",
         "False",
         "True"
        ],
        [
         "11",
         "0.3",
         "False",
         "True",
         "False",
         "False",
         "False"
        ],
        [
         "12",
         "0.23",
         "False",
         "False",
         "True",
         "False",
         "False"
        ],
        [
         "13",
         "0.22",
         "False",
         "False",
         "False",
         "True",
         "False"
        ],
        [
         "14",
         "0.31",
         "False",
         "False",
         "True",
         "False",
         "False"
        ],
        [
         "15",
         "0.2",
         "False",
         "False",
         "False",
         "True",
         "False"
        ],
        [
         "16",
         "0.32",
         "False",
         "False",
         "False",
         "True",
         "False"
        ],
        [
         "17",
         "0.3",
         "False",
         "False",
         "True",
         "False",
         "False"
        ],
        [
         "18",
         "0.3",
         "False",
         "True",
         "False",
         "False",
         "False"
        ],
        [
         "19",
         "0.3",
         "False",
         "True",
         "False",
         "False",
         "False"
        ],
        [
         "20",
         "0.3",
         "False",
         "False",
         "False",
         "False",
         "True"
        ],
        [
         "21",
         "0.3",
         "False",
         "True",
         "False",
         "False",
         "False"
        ],
        [
         "22",
         "0.23",
         "False",
         "False",
         "False",
         "False",
         "True"
        ],
        [
         "23",
         "0.23",
         "False",
         "False",
         "False",
         "False",
         "True"
        ],
        [
         "24",
         "0.31",
         "False",
         "False",
         "False",
         "False",
         "True"
        ],
        [
         "25",
         "0.31",
         "False",
         "False",
         "False",
         "False",
         "True"
        ],
        [
         "26",
         "0.23",
         "False",
         "False",
         "False",
         "False",
         "True"
        ],
        [
         "27",
         "0.24",
         "False",
         "False",
         "False",
         "True",
         "False"
        ],
        [
         "28",
         "0.3",
         "False",
         "False",
         "False",
         "False",
         "True"
        ],
        [
         "29",
         "0.23",
         "False",
         "False",
         "False",
         "False",
         "True"
        ],
        [
         "30",
         "0.23",
         "False",
         "False",
         "False",
         "False",
         "True"
        ],
        [
         "31",
         "0.23",
         "False",
         "False",
         "False",
         "False",
         "True"
        ],
        [
         "32",
         "0.23",
         "False",
         "False",
         "False",
         "False",
         "True"
        ],
        [
         "33",
         "0.23",
         "False",
         "False",
         "False",
         "False",
         "True"
        ],
        [
         "34",
         "0.23",
         "False",
         "False",
         "False",
         "False",
         "True"
        ],
        [
         "35",
         "0.23",
         "False",
         "False",
         "False",
         "False",
         "True"
        ],
        [
         "36",
         "0.23",
         "False",
         "True",
         "False",
         "False",
         "False"
        ],
        [
         "37",
         "0.23",
         "False",
         "True",
         "False",
         "False",
         "False"
        ],
        [
         "38",
         "0.31",
         "False",
         "True",
         "False",
         "False",
         "False"
        ],
        [
         "39",
         "0.26",
         "False",
         "False",
         "False",
         "False",
         "True"
        ],
        [
         "40",
         "0.33",
         "False",
         "False",
         "True",
         "False",
         "False"
        ],
        [
         "41",
         "0.33",
         "False",
         "False",
         "True",
         "False",
         "False"
        ],
        [
         "42",
         "0.33",
         "False",
         "False",
         "True",
         "False",
         "False"
        ],
        [
         "43",
         "0.26",
         "False",
         "True",
         "False",
         "False",
         "False"
        ],
        [
         "44",
         "0.26",
         "False",
         "True",
         "False",
         "False",
         "False"
        ],
        [
         "45",
         "0.32",
         "False",
         "True",
         "False",
         "False",
         "False"
        ],
        [
         "46",
         "0.29",
         "False",
         "False",
         "False",
         "True",
         "False"
        ],
        [
         "47",
         "0.32",
         "False",
         "False",
         "False",
         "False",
         "True"
        ],
        [
         "48",
         "0.32",
         "False",
         "True",
         "False",
         "False",
         "False"
        ],
        [
         "49",
         "0.25",
         "False",
         "False",
         "False",
         "False",
         "True"
        ],
        [
         "50",
         "0.29",
         "False",
         "False",
         "False",
         "False",
         "True"
        ]
       ],
       "shape": {
        "columns": 6,
        "rows": 53794
       }
      },
      "text/html": [
       "<div>\n",
       "<style scoped>\n",
       "    .dataframe tbody tr th:only-of-type {\n",
       "        vertical-align: middle;\n",
       "    }\n",
       "\n",
       "    .dataframe tbody tr th {\n",
       "        vertical-align: top;\n",
       "    }\n",
       "\n",
       "    .dataframe thead th {\n",
       "        text-align: right;\n",
       "    }\n",
       "</style>\n",
       "<table border=\"1\" class=\"dataframe\">\n",
       "  <thead>\n",
       "    <tr style=\"text-align: right;\">\n",
       "      <th></th>\n",
       "      <th>carat</th>\n",
       "      <th>cut_Fair</th>\n",
       "      <th>cut_Good</th>\n",
       "      <th>cut_Ideal</th>\n",
       "      <th>cut_Premium</th>\n",
       "      <th>cut_Very Good</th>\n",
       "    </tr>\n",
       "  </thead>\n",
       "  <tbody>\n",
       "    <tr>\n",
       "      <th>1</th>\n",
       "      <td>0.23</td>\n",
       "      <td>False</td>\n",
       "      <td>False</td>\n",
       "      <td>True</td>\n",
       "      <td>False</td>\n",
       "      <td>False</td>\n",
       "    </tr>\n",
       "    <tr>\n",
       "      <th>2</th>\n",
       "      <td>0.21</td>\n",
       "      <td>False</td>\n",
       "      <td>False</td>\n",
       "      <td>False</td>\n",
       "      <td>True</td>\n",
       "      <td>False</td>\n",
       "    </tr>\n",
       "    <tr>\n",
       "      <th>3</th>\n",
       "      <td>0.23</td>\n",
       "      <td>False</td>\n",
       "      <td>True</td>\n",
       "      <td>False</td>\n",
       "      <td>False</td>\n",
       "      <td>False</td>\n",
       "    </tr>\n",
       "    <tr>\n",
       "      <th>4</th>\n",
       "      <td>0.29</td>\n",
       "      <td>False</td>\n",
       "      <td>False</td>\n",
       "      <td>False</td>\n",
       "      <td>True</td>\n",
       "      <td>False</td>\n",
       "    </tr>\n",
       "    <tr>\n",
       "      <th>5</th>\n",
       "      <td>0.31</td>\n",
       "      <td>False</td>\n",
       "      <td>True</td>\n",
       "      <td>False</td>\n",
       "      <td>False</td>\n",
       "      <td>False</td>\n",
       "    </tr>\n",
       "    <tr>\n",
       "      <th>...</th>\n",
       "      <td>...</td>\n",
       "      <td>...</td>\n",
       "      <td>...</td>\n",
       "      <td>...</td>\n",
       "      <td>...</td>\n",
       "      <td>...</td>\n",
       "    </tr>\n",
       "    <tr>\n",
       "      <th>53936</th>\n",
       "      <td>0.72</td>\n",
       "      <td>False</td>\n",
       "      <td>False</td>\n",
       "      <td>True</td>\n",
       "      <td>False</td>\n",
       "      <td>False</td>\n",
       "    </tr>\n",
       "    <tr>\n",
       "      <th>53937</th>\n",
       "      <td>0.72</td>\n",
       "      <td>False</td>\n",
       "      <td>True</td>\n",
       "      <td>False</td>\n",
       "      <td>False</td>\n",
       "      <td>False</td>\n",
       "    </tr>\n",
       "    <tr>\n",
       "      <th>53938</th>\n",
       "      <td>0.70</td>\n",
       "      <td>False</td>\n",
       "      <td>False</td>\n",
       "      <td>False</td>\n",
       "      <td>False</td>\n",
       "      <td>True</td>\n",
       "    </tr>\n",
       "    <tr>\n",
       "      <th>53939</th>\n",
       "      <td>0.86</td>\n",
       "      <td>False</td>\n",
       "      <td>False</td>\n",
       "      <td>False</td>\n",
       "      <td>True</td>\n",
       "      <td>False</td>\n",
       "    </tr>\n",
       "    <tr>\n",
       "      <th>53940</th>\n",
       "      <td>0.75</td>\n",
       "      <td>False</td>\n",
       "      <td>False</td>\n",
       "      <td>True</td>\n",
       "      <td>False</td>\n",
       "      <td>False</td>\n",
       "    </tr>\n",
       "  </tbody>\n",
       "</table>\n",
       "<p>53794 rows × 6 columns</p>\n",
       "</div>"
      ],
      "text/plain": [
       "       carat  cut_Fair  cut_Good  cut_Ideal  cut_Premium  cut_Very Good\n",
       "1       0.23     False     False       True        False          False\n",
       "2       0.21     False     False      False         True          False\n",
       "3       0.23     False      True      False        False          False\n",
       "4       0.29     False     False      False         True          False\n",
       "5       0.31     False      True      False        False          False\n",
       "...      ...       ...       ...        ...          ...            ...\n",
       "53936   0.72     False     False       True        False          False\n",
       "53937   0.72     False      True      False        False          False\n",
       "53938   0.70     False     False      False        False           True\n",
       "53939   0.86     False     False      False         True          False\n",
       "53940   0.75     False     False       True        False          False\n",
       "\n",
       "[53794 rows x 6 columns]"
      ]
     },
     "execution_count": 135,
     "metadata": {},
     "output_type": "execute_result"
    }
   ],
   "source": [
    "# Replace None with appropriate code\n",
    "\n",
    "# Use pd.get_dummies to one-hot encode the categorical column in X_iterated\n",
    "X_iterated = pd.get_dummies(X_iterated, columns=[cat_col])\n",
    "X_iterated"
   ]
  },
  {
   "cell_type": "markdown",
   "metadata": {},
   "source": [
    "The following code checks that you have the right number of columns:"
   ]
  },
  {
   "cell_type": "code",
   "execution_count": 136,
   "metadata": {},
   "outputs": [],
   "source": [
    "# Run this cell without changes\n",
    "\n",
    "# X_iterated should be a dataframe\n",
    "assert type(X_iterated) == pd.DataFrame\n",
    "\n",
    "# You should have the number of unique values in one of the\n",
    "# categorical columns + 1 (representing the numeric predictor)\n",
    "valid_col_nums = diamonds.select_dtypes(\"object\").nunique() + 1\n",
    "\n",
    "# Check that there are the correct number of columns\n",
    "# (if this crashes, make sure you did not use `drop_first=True`)\n",
    "assert X_iterated.shape[1] in valid_col_nums.values"
   ]
  },
  {
   "cell_type": "markdown",
   "metadata": {},
   "source": [
    "Now, applying your domain understanding, **choose a column to drop and drop it**. This category should make sense as a \"baseline\" or \"reference\". For the \"cut_Very Good\" column that was generated when `pd.get_dummies` was used, we need to remove the space in the column name."
   ]
  },
  {
   "cell_type": "code",
   "execution_count": 137,
   "metadata": {},
   "outputs": [
    {
     "data": {
      "text/plain": [
       "Index(['carat', 'cut_Fair', 'cut_Good', 'cut_Ideal', 'cut_Premium',\n",
       "       'cut_Very_Good'],\n",
       "      dtype='object')"
      ]
     },
     "execution_count": 137,
     "metadata": {},
     "output_type": "execute_result"
    }
   ],
   "source": [
    "# Your code here\n",
    "# remove spaces from column names\n",
    "X_iterated.columns = X_iterated.columns.str.replace(\" \", \"_\")\n",
    "X_iterated.columns\n"
   ]
  },
  {
   "cell_type": "code",
   "execution_count": 138,
   "metadata": {},
   "outputs": [
    {
     "name": "stdout",
     "output_type": "stream",
     "text": [
      "cut\n",
      "Ideal        21488\n",
      "Premium      13748\n",
      "Very Good    12069\n",
      "Good          4891\n",
      "Fair          1598\n",
      "Name: count, dtype: int64\n"
     ]
    }
   ],
   "source": [
    "# Check the value counts of the original cut column\n",
    "print(diamonds['cut'].value_counts())\n"
   ]
  },
  {
   "cell_type": "code",
   "execution_count": 139,
   "metadata": {},
   "outputs": [],
   "source": [
    "# Drop one cut column from X_iterated\n",
    "X_iterated.drop(columns=['cut_Very_Good'], inplace=True)"
   ]
  },
  {
   "cell_type": "markdown",
   "metadata": {},
   "source": [
    "We now need to change the boolean values for the four \"cut\" column to 1s and 0s in order for the regression to run."
   ]
  },
  {
   "cell_type": "code",
   "execution_count": 140,
   "metadata": {},
   "outputs": [],
   "source": [
    "# Your code here\n",
    "# Change boolean columns to integers\n",
    "X_iterated = X_iterated.astype(int)"
   ]
  },
  {
   "cell_type": "markdown",
   "metadata": {},
   "source": [
    "Now you should have 1 fewer column than before:"
   ]
  },
  {
   "cell_type": "code",
   "execution_count": 141,
   "metadata": {},
   "outputs": [],
   "source": [
    "# Run this cell without changes\n",
    "\n",
    "# Check that there are the correct number of columns\n",
    "assert X_iterated.shape[1] in (valid_col_nums - 1).values"
   ]
  },
  {
   "cell_type": "code",
   "execution_count": 142,
   "metadata": {},
   "outputs": [
    {
     "data": {
      "application/vnd.microsoft.datawrangler.viewer.v0+json": {
       "columns": [
        {
         "name": "index",
         "rawType": "object",
         "type": "string"
        },
        {
         "name": "count",
         "rawType": "float64",
         "type": "float"
        },
        {
         "name": "mean",
         "rawType": "float64",
         "type": "float"
        },
        {
         "name": "std",
         "rawType": "float64",
         "type": "float"
        },
        {
         "name": "min",
         "rawType": "float64",
         "type": "float"
        },
        {
         "name": "25%",
         "rawType": "float64",
         "type": "float"
        },
        {
         "name": "50%",
         "rawType": "float64",
         "type": "float"
        },
        {
         "name": "75%",
         "rawType": "float64",
         "type": "float"
        },
        {
         "name": "max",
         "rawType": "float64",
         "type": "float"
        }
       ],
       "conversionMethod": "pd.DataFrame",
       "ref": "2ca36508-28f2-46ac-a8c4-30fe456654be",
       "rows": [
        [
         "carat",
         "53794.0",
         "0.3937985648957133",
         "0.5672608104261442",
         "0.0",
         "0.0",
         "0.0",
         "1.0",
         "5.0"
        ],
        [
         "cut_Fair",
         "53794.0",
         "0.02970591515782429",
         "0.16977635166441019",
         "0.0",
         "0.0",
         "0.0",
         "0.0",
         "1.0"
        ],
        [
         "cut_Good",
         "53794.0",
         "0.09092092054876008",
         "0.28749929266113017",
         "0.0",
         "0.0",
         "0.0",
         "0.0",
         "1.0"
        ],
        [
         "cut_Ideal",
         "53794.0",
         "0.3994497527605309",
         "0.48978986032348565",
         "0.0",
         "0.0",
         "0.0",
         "1.0",
         "1.0"
        ],
        [
         "cut_Premium",
         "53794.0",
         "0.2555675354128713",
         "0.43618379957637105",
         "0.0",
         "0.0",
         "0.0",
         "1.0",
         "1.0"
        ]
       ],
       "shape": {
        "columns": 8,
        "rows": 5
       }
      },
      "text/html": [
       "<div>\n",
       "<style scoped>\n",
       "    .dataframe tbody tr th:only-of-type {\n",
       "        vertical-align: middle;\n",
       "    }\n",
       "\n",
       "    .dataframe tbody tr th {\n",
       "        vertical-align: top;\n",
       "    }\n",
       "\n",
       "    .dataframe thead th {\n",
       "        text-align: right;\n",
       "    }\n",
       "</style>\n",
       "<table border=\"1\" class=\"dataframe\">\n",
       "  <thead>\n",
       "    <tr style=\"text-align: right;\">\n",
       "      <th></th>\n",
       "      <th>count</th>\n",
       "      <th>mean</th>\n",
       "      <th>std</th>\n",
       "      <th>min</th>\n",
       "      <th>25%</th>\n",
       "      <th>50%</th>\n",
       "      <th>75%</th>\n",
       "      <th>max</th>\n",
       "    </tr>\n",
       "  </thead>\n",
       "  <tbody>\n",
       "    <tr>\n",
       "      <th>carat</th>\n",
       "      <td>53794.0</td>\n",
       "      <td>0.393799</td>\n",
       "      <td>0.567261</td>\n",
       "      <td>0.0</td>\n",
       "      <td>0.0</td>\n",
       "      <td>0.0</td>\n",
       "      <td>1.0</td>\n",
       "      <td>5.0</td>\n",
       "    </tr>\n",
       "    <tr>\n",
       "      <th>cut_Fair</th>\n",
       "      <td>53794.0</td>\n",
       "      <td>0.029706</td>\n",
       "      <td>0.169776</td>\n",
       "      <td>0.0</td>\n",
       "      <td>0.0</td>\n",
       "      <td>0.0</td>\n",
       "      <td>0.0</td>\n",
       "      <td>1.0</td>\n",
       "    </tr>\n",
       "    <tr>\n",
       "      <th>cut_Good</th>\n",
       "      <td>53794.0</td>\n",
       "      <td>0.090921</td>\n",
       "      <td>0.287499</td>\n",
       "      <td>0.0</td>\n",
       "      <td>0.0</td>\n",
       "      <td>0.0</td>\n",
       "      <td>0.0</td>\n",
       "      <td>1.0</td>\n",
       "    </tr>\n",
       "    <tr>\n",
       "      <th>cut_Ideal</th>\n",
       "      <td>53794.0</td>\n",
       "      <td>0.399450</td>\n",
       "      <td>0.489790</td>\n",
       "      <td>0.0</td>\n",
       "      <td>0.0</td>\n",
       "      <td>0.0</td>\n",
       "      <td>1.0</td>\n",
       "      <td>1.0</td>\n",
       "    </tr>\n",
       "    <tr>\n",
       "      <th>cut_Premium</th>\n",
       "      <td>53794.0</td>\n",
       "      <td>0.255568</td>\n",
       "      <td>0.436184</td>\n",
       "      <td>0.0</td>\n",
       "      <td>0.0</td>\n",
       "      <td>0.0</td>\n",
       "      <td>1.0</td>\n",
       "      <td>1.0</td>\n",
       "    </tr>\n",
       "  </tbody>\n",
       "</table>\n",
       "</div>"
      ],
      "text/plain": [
       "               count      mean       std  min  25%  50%  75%  max\n",
       "carat        53794.0  0.393799  0.567261  0.0  0.0  0.0  1.0  5.0\n",
       "cut_Fair     53794.0  0.029706  0.169776  0.0  0.0  0.0  0.0  1.0\n",
       "cut_Good     53794.0  0.090921  0.287499  0.0  0.0  0.0  0.0  1.0\n",
       "cut_Ideal    53794.0  0.399450  0.489790  0.0  0.0  0.0  1.0  1.0\n",
       "cut_Premium  53794.0  0.255568  0.436184  0.0  0.0  0.0  1.0  1.0"
      ]
     },
     "execution_count": 142,
     "metadata": {},
     "output_type": "execute_result"
    }
   ],
   "source": [
    "# view the statistics of the new dataframe\n",
    "X_iterated.describe().T"
   ]
  },
  {
   "cell_type": "markdown",
   "metadata": {},
   "source": [
    "## 5. Build a Multiple Linear Regression Model\n",
    "\n",
    "Using the `y` variable from our previous model and `X_iterated`, build a model called `iterated_model` and a regression results object called `iterated_results`."
   ]
  },
  {
   "cell_type": "code",
   "execution_count": 143,
   "metadata": {},
   "outputs": [],
   "source": [
    "# Your code here\n",
    "#build the model\n",
    "y = diamonds['price']\n",
    "X_iterated = sm.add_constant(X_iterated)\n",
    "\n",
    "iterated_model = sm.OLS(y, X_iterated)\n",
    "iterated_results = iterated_model.fit()\n"
   ]
  },
  {
   "cell_type": "markdown",
   "metadata": {},
   "source": [
    "## 6. Evaluate and Interpret Multiple Linear Regression Model Results\n",
    "\n",
    "If the model was set up correctly, the following code will print the results summary."
   ]
  },
  {
   "cell_type": "code",
   "execution_count": 144,
   "metadata": {},
   "outputs": [
    {
     "name": "stdout",
     "output_type": "stream",
     "text": [
      "                            OLS Regression Results                            \n",
      "==============================================================================\n",
      "Dep. Variable:                  price   R-squared:                       0.730\n",
      "Model:                            OLS   Adj. R-squared:                  0.730\n",
      "Method:                 Least Squares   F-statistic:                 2.906e+04\n",
      "Date:                Tue, 15 Apr 2025   Prob (F-statistic):               0.00\n",
      "Time:                        16:04:28   Log-Likelihood:            -4.8714e+05\n",
      "No. Observations:               53794   AIC:                         9.743e+05\n",
      "Df Residuals:                   53788   BIC:                         9.743e+05\n",
      "Df Model:                           5                                         \n",
      "Covariance Type:            nonrobust                                         \n",
      "===============================================================================\n",
      "                  coef    std err          t      P>|t|      [0.025      0.975]\n",
      "-------------------------------------------------------------------------------\n",
      "const        1622.5272     19.874     81.640      0.000    1583.573    1661.481\n",
      "carat        6035.7514     15.972    377.884      0.000    6004.445    6067.058\n",
      "cut_Fair     -966.9892     55.293    -17.488      0.000   -1075.364    -858.614\n",
      "cut_Good     -314.6615     35.143     -8.954      0.000    -383.542    -245.781\n",
      "cut_Ideal      48.4293     23.627      2.050      0.040       2.119      94.739\n",
      "cut_Premium  -110.9014     25.926     -4.278      0.000    -161.716     -60.087\n",
      "==============================================================================\n",
      "Omnibus:                    11632.774   Durbin-Watson:                   0.798\n",
      "Prob(Omnibus):                  0.000   Jarque-Bera (JB):            37030.239\n",
      "Skew:                           1.103   Prob(JB):                         0.00\n",
      "Kurtosis:                       6.414   Cond. No.                         7.82\n",
      "==============================================================================\n",
      "\n",
      "Notes:\n",
      "[1] Standard Errors assume that the covariance matrix of the errors is correctly specified.\n"
     ]
    }
   ],
   "source": [
    "# Run this cell without changes\n",
    "print(iterated_results.summary())"
   ]
  },
  {
   "cell_type": "markdown",
   "metadata": {},
   "source": [
    "Summarize your findings below. How did the iterated model perform overall? How does this compare to the baseline model? What do the coefficients mean?\n",
    "\n",
    "Create as many additional cells as needed."
   ]
  },
  {
   "cell_type": "code",
   "execution_count": 145,
   "metadata": {},
   "outputs": [
    {
     "name": "stdout",
     "output_type": "stream",
     "text": [
      "Baseline model R-squared:  0.8492513086807094\n",
      "Iterated model R-squared:  0.7298618684273056\n"
     ]
    }
   ],
   "source": [
    "# compare the two models\n",
    "print(\"Baseline model R-squared: \", baseline_results.rsquared)\n",
    "print(\"Iterated model R-squared: \", iterated_results.rsquared)"
   ]
  },
  {
   "cell_type": "code",
   "execution_count": 146,
   "metadata": {},
   "outputs": [],
   "source": [
    "# Your written answer here\n",
    "# Interpret the coefficients of the model\n",
    "# an increase of 1 carat in weight is associated with an increase of $6036 in price.\n"
   ]
  },
  {
   "cell_type": "markdown",
   "metadata": {},
   "source": [
    "*Interpretation* \n",
    "\n",
    "- The R-squared value is 0.733, which indicates that 73% of the variance in the price can be explained by the carat weight and cut of the diamonds. \n",
    "- The model is statistically significant with a p-value of less than the standard 0.05\n",
    "- The coefficients for the cut categories indicate the average price difference compared to the reference category (Very Good).\n",
    "- The categorical variable increased complexity of the model thus decreasing model performance.\n",
    "- an increase of 1 carat in weight is associated with an increase of $6036 in price."
   ]
  },
  {
   "cell_type": "markdown",
   "metadata": {},
   "source": [
    "- The iterated model underfitted due to complexity added by the cut category"
   ]
  },
  {
   "cell_type": "markdown",
   "metadata": {},
   "source": [
    "## Summary\n",
    "\n",
    "Congratulations, you completed an iterative linear regression process! You practiced developing a baseline and an iterated model, as well as identifying promising predictors from both numeric and categorical features."
   ]
  }
 ],
 "metadata": {
  "kernelspec": {
   "display_name": "new_learn_env",
   "language": "python",
   "name": "python3"
  },
  "language_info": {
   "codemirror_mode": {
    "name": "ipython",
    "version": 3
   },
   "file_extension": ".py",
   "mimetype": "text/x-python",
   "name": "python",
   "nbconvert_exporter": "python",
   "pygments_lexer": "ipython3",
   "version": "3.12.9"
  }
 },
 "nbformat": 4,
 "nbformat_minor": 4
}
